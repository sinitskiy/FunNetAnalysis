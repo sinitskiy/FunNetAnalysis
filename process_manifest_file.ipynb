{
 "cells": [
  {
   "cell_type": "code",
   "execution_count": 14,
   "metadata": {},
   "outputs": [],
   "source": [
    "import os\n",
    "import csv\n",
    "import requests\n",
    "import shutil\n",
    "import gzip\n",
    "from pyteomics import mzid"
   ]
  },
  {
   "cell_type": "code",
   "execution_count": 15,
   "metadata": {},
   "outputs": [],
   "source": [
    "MANIFEST_FILE = 'PDC_file_manifest_02272025_084831.csv'\n",
    "DOWNLOAD_DIR = 'downloaded_files'\n",
    "EXTRACTED_DIR = 'extracted_files'\n",
    "PROTEIN_LIST_DIR = 'protein_lists'"
   ]
  },
  {
   "cell_type": "code",
   "execution_count": 16,
   "metadata": {},
   "outputs": [],
   "source": [
    "os.makedirs(DOWNLOAD_DIR, exist_ok=True)\n",
    "os.makedirs(EXTRACTED_DIR, exist_ok=True)\n",
    "os.makedirs(PROTEIN_LIST_DIR, exist_ok=True)"
   ]
  },
  {
   "cell_type": "code",
   "execution_count": 17,
   "metadata": {},
   "outputs": [],
   "source": [
    "PROBLEMATIC_LIST_FILE = os.path.join(PROTEIN_LIST_DIR, 'problematic_files.txt')"
   ]
  },
  {
   "cell_type": "code",
   "execution_count": 18,
   "metadata": {},
   "outputs": [],
   "source": [
    "problematic_files = []"
   ]
  },
  {
   "cell_type": "code",
   "execution_count": 19,
   "metadata": {},
   "outputs": [],
   "source": [
    "def download_file(url, local_filename):\n",
    "    \"\"\"\n",
    "    Download a file from the given URL and save it as local_filename.\n",
    "    \"\"\"\n",
    "    with requests.get(url, stream=True) as response:\n",
    "        response.raise_for_status()\n",
    "        with open(local_filename, 'wb') as out_file:\n",
    "            shutil.copyfileobj(response.raw, out_file)\n",
    "    return local_filename"
   ]
  },
  {
   "cell_type": "code",
   "execution_count": 20,
   "metadata": {},
   "outputs": [],
   "source": [
    "def extract_gz_file(gz_path, extracted_folder):\n",
    "    \"\"\"\n",
    "    Extract a .gz file into the specified extracted_folder.\n",
    "    The extracted file will have the same name as gz_path but without the .gz extension.\n",
    "    \"\"\"\n",
    "    base_filename = os.path.basename(gz_path)\n",
    "    if base_filename.endswith('.gz'):\n",
    "        extracted_filename = base_filename[:-3]\n",
    "    else:\n",
    "        extracted_filename = base_filename\n",
    "    extracted_path = os.path.join(extracted_folder, extracted_filename)\n",
    "    with gzip.open(gz_path, 'rb') as f_in, open(extracted_path, 'wb') as f_out:\n",
    "        shutil.copyfileobj(f_in, f_out)\n",
    "    return extracted_path"
   ]
  },
  {
   "cell_type": "code",
   "execution_count": 21,
   "metadata": {},
   "outputs": [],
   "source": [
    "def extract_proteins(mzid_path):\n",
    "    \"\"\"\n",
    "    Extract protein names from an mzid file using pyteomics.\n",
    "    Returns a set of protein names.\n",
    "    \"\"\"\n",
    "    proteins = set()\n",
    "    try:\n",
    "        with mzid.MzIdentML(mzid_path) as reader:\n",
    "            for spectrum in reader:\n",
    "                try:\n",
    "                    protein = spectrum['SpectrumIdentificationItem'][0]['PeptideEvidenceRef'][0]['protein description']\n",
    "                    proteins.add(protein)\n",
    "                except Exception:\n",
    "                    # Skip any spectrum that doesn't have the expected structure.\n",
    "                    pass\n",
    "    except Exception as e:\n",
    "        print(f\"Error reading {mzid_path}: {e}\")\n",
    "    return proteins"
   ]
  },
  {
   "cell_type": "code",
   "execution_count": null,
   "metadata": {},
   "outputs": [
    {
     "name": "stdout",
     "output_type": "stream",
     "text": [
      "Processing row: {'\\ufeffFile ID': '008c39ef-eef8-49e6-abe3-4ddd43ded553', 'File Name': 'JK032420_032420_PTRC_Ov_FHCRC_Gr06_redo_TMT_11plex_bRP_GLBL_F13.mzid.gz', 'Run Metadata ID': 'Frozen_Validation_Global_TMT_Gr06', 'Protocol': 'HGSOC FHCRC Frozen Validation Proteome', 'Study Name': 'PTRC HGSOC Frozen Validation - Proteome', 'PDC Study ID': 'PDC000362', 'PDC Study Version': '1', 'Study ID': '196aabca-0e36-46ca-9096-339aee1471da', 'Project Name': 'Proteogenomic Translational Research Centers (PTRC)', 'Data Category': 'Peptide Spectral Matches', 'File Type': 'Open Standard', 'Access': 'Open', 'File Size (in bytes)': '7025230', 'Md5sum': '378be57d18d6d2e8ec60de527510a263', 'Downloadable': 'Yes', 'File Download Link': 'https://d3iwtkuvwz4jtf.cloudfront.net/studies/362/PSM/mzid/JK032420_032420_PTRC_Ov_FHCRC_Gr06_redo_TMT_11plex_bRP_GLBL_F13.mzid.gz?Policy=eyJTdGF0ZW1lbnQiOlt7IlJlc291cmNlIjoiaHR0cHM6Ly9kM2l3dGt1dnd6NGp0Zi5jbG91ZGZyb250Lm5ldC9zdHVkaWVzLzM2Mi9QU00vbXppZC9KSzAzMjQyMF8wMzI0MjBfUFRSQ19Pdl9GSENSQ19HcjA2X3JlZG9fVE1UXzExcGxleF9iUlBfR0xCTF9GMTMubXppZC5neiIsIkNvbmRpdGlvbiI6eyJEYXRlTGVzc1RoYW4iOnsiQVdTOkVwb2NoVGltZSI6MTc0MTI2ODk2MH19fV19&Key-Pair-Id=APKAIXDMVIARW22I7ILQ&Signature=SjYZZWQFRR1TuEWA~J6m02zCeov8AOKs5xQIJpVBe~u2ndNn7Uy1J2rQJvIrnW1z-orWEOqG9uSC27LWPvZwFPbBdNYr4Uf1JgcD7VH~Hc6m11qh3FDgRxQ24R6yg2eWKpg0VlMdi3VS3awrjPChUE2xdObEHBgDxYIVJwDRxS~YaSqitH4Mf~wN-kIvRCxrnT8~1d3P-HJzLIW9uWkUAuOznWOEu7HD2Y6681uAaXqekJMAK9gCSjgvQn2mOzuh5VKc5GXhP~mm5tzdH2zrgpgAVwbpEz14WAzboHo-SwGaUKFX1wSyIrrJ562Whel3I-G6JZaoHrRZc2Ae8DqfGw__'}\n",
      "Downloading https://d3iwtkuvwz4jtf.cloudfront.net/studies/362/PSM/mzid/JK032420_032420_PTRC_Ov_FHCRC_Gr06_redo_TMT_11plex_bRP_GLBL_F13.mzid.gz?Policy=eyJTdGF0ZW1lbnQiOlt7IlJlc291cmNlIjoiaHR0cHM6Ly9kM2l3dGt1dnd6NGp0Zi5jbG91ZGZyb250Lm5ldC9zdHVkaWVzLzM2Mi9QU00vbXppZC9KSzAzMjQyMF8wMzI0MjBfUFRSQ19Pdl9GSENSQ19HcjA2X3JlZG9fVE1UXzExcGxleF9iUlBfR0xCTF9GMTMubXppZC5neiIsIkNvbmRpdGlvbiI6eyJEYXRlTGVzc1RoYW4iOnsiQVdTOkVwb2NoVGltZSI6MTc0MTI2ODk2MH19fV19&Key-Pair-Id=APKAIXDMVIARW22I7ILQ&Signature=SjYZZWQFRR1TuEWA~J6m02zCeov8AOKs5xQIJpVBe~u2ndNn7Uy1J2rQJvIrnW1z-orWEOqG9uSC27LWPvZwFPbBdNYr4Uf1JgcD7VH~Hc6m11qh3FDgRxQ24R6yg2eWKpg0VlMdi3VS3awrjPChUE2xdObEHBgDxYIVJwDRxS~YaSqitH4Mf~wN-kIvRCxrnT8~1d3P-HJzLIW9uWkUAuOznWOEu7HD2Y6681uAaXqekJMAK9gCSjgvQn2mOzuh5VKc5GXhP~mm5tzdH2zrgpgAVwbpEz14WAzboHo-SwGaUKFX1wSyIrrJ562Whel3I-G6JZaoHrRZc2Ae8DqfGw__ into downloaded_files/JK032420_032420_PTRC_Ov_FHCRC_Gr06_redo_TMT_11plex_bRP_GLBL_F13.mzid.gz ...\n",
      "Download complete.\n",
      "Extracted downloaded_files/JK032420_032420_PTRC_Ov_FHCRC_Gr06_redo_TMT_11plex_bRP_GLBL_F13.mzid.gz to extracted_files/JK032420_032420_PTRC_Ov_FHCRC_Gr06_redo_TMT_11plex_bRP_GLBL_F13.mzid\n",
      "Extracted 3178 proteins from extracted_files/JK032420_032420_PTRC_Ov_FHCRC_Gr06_redo_TMT_11plex_bRP_GLBL_F13.mzid\n",
      "Saved protein names to protein_lists/JK032420_032420_PTRC_Ov_FHCRC_Gr06_redo_TMT_11plex_bRP_GLBL_F13.mzid.txt\n",
      "Deleted downloaded file downloaded_files/JK032420_032420_PTRC_Ov_FHCRC_Gr06_redo_TMT_11plex_bRP_GLBL_F13.mzid.gz\n",
      "Deleted extracted file extracted_files/JK032420_032420_PTRC_Ov_FHCRC_Gr06_redo_TMT_11plex_bRP_GLBL_F13.mzid\n",
      "----------------------------------------\n",
      "Processing row: {'\\ufeffFile ID': '00a9e726-3919-4766-a4eb-894d7cb9e9c4', 'File Name': 'JK041919_062019_PTRC_Ov_FHCRC_Gr08_TMT_11plex_bRP_GLBL_F15.mzid.gz', 'Run Metadata ID': 'Frozen_Validation_Global_TMT_Gr08', 'Protocol': 'HGSOC FHCRC Frozen Validation Proteome', 'Study Name': 'PTRC HGSOC Frozen Validation - Proteome', 'PDC Study ID': 'PDC000362', 'PDC Study Version': '1', 'Study ID': '196aabca-0e36-46ca-9096-339aee1471da', 'Project Name': 'Proteogenomic Translational Research Centers (PTRC)', 'Data Category': 'Peptide Spectral Matches', 'File Type': 'Open Standard', 'Access': 'Open', 'File Size (in bytes)': '7470461', 'Md5sum': 'a927a44fd141aabbfd79022415cef9a1', 'Downloadable': 'Yes', 'File Download Link': 'https://d3iwtkuvwz4jtf.cloudfront.net/studies/362/PSM/mzid/JK041919_062019_PTRC_Ov_FHCRC_Gr08_TMT_11plex_bRP_GLBL_F15.mzid.gz?Policy=eyJTdGF0ZW1lbnQiOlt7IlJlc291cmNlIjoiaHR0cHM6Ly9kM2l3dGt1dnd6NGp0Zi5jbG91ZGZyb250Lm5ldC9zdHVkaWVzLzM2Mi9QU00vbXppZC9KSzA0MTkxOV8wNjIwMTlfUFRSQ19Pdl9GSENSQ19HcjA4X1RNVF8xMXBsZXhfYlJQX0dMQkxfRjE1Lm16aWQuZ3oiLCJDb25kaXRpb24iOnsiRGF0ZUxlc3NUaGFuIjp7IkFXUzpFcG9jaFRpbWUiOjE3NDEyNjg5NjB9fX1dfQ__&Key-Pair-Id=APKAIXDMVIARW22I7ILQ&Signature=b9yhHoZ0AHODpKcxlAz8TZ5ksct8HOhvX~FdDOfpq3sgWH~Xslt9mwQw25oN3D~ggNZqqeqEr6dugNwe~vXuZPO05StMD7o9-lT4GZl0TKfpJTho~YYvenJLHO-lxANqSCgyiJFffJwW1M2CjpvGJEojzqsLC~XAVPDxAgKi3WVgSK8Sc76c4hlyVEEFhRvXxf7fWSAIXciZdYzqBKA19tBtAON3ok0dRNFiLqTj9DINQs-2GSrP~DryxKwlUI6~ATWLiARZYVZOZuLuuVwUry~nOQ8cMzNePtHdB6CMmYmI3cQoukwzQQaKgCVXARBSjBw5qdPVfm3LxLSKluvicQ__'}\n",
      "Downloading https://d3iwtkuvwz4jtf.cloudfront.net/studies/362/PSM/mzid/JK041919_062019_PTRC_Ov_FHCRC_Gr08_TMT_11plex_bRP_GLBL_F15.mzid.gz?Policy=eyJTdGF0ZW1lbnQiOlt7IlJlc291cmNlIjoiaHR0cHM6Ly9kM2l3dGt1dnd6NGp0Zi5jbG91ZGZyb250Lm5ldC9zdHVkaWVzLzM2Mi9QU00vbXppZC9KSzA0MTkxOV8wNjIwMTlfUFRSQ19Pdl9GSENSQ19HcjA4X1RNVF8xMXBsZXhfYlJQX0dMQkxfRjE1Lm16aWQuZ3oiLCJDb25kaXRpb24iOnsiRGF0ZUxlc3NUaGFuIjp7IkFXUzpFcG9jaFRpbWUiOjE3NDEyNjg5NjB9fX1dfQ__&Key-Pair-Id=APKAIXDMVIARW22I7ILQ&Signature=b9yhHoZ0AHODpKcxlAz8TZ5ksct8HOhvX~FdDOfpq3sgWH~Xslt9mwQw25oN3D~ggNZqqeqEr6dugNwe~vXuZPO05StMD7o9-lT4GZl0TKfpJTho~YYvenJLHO-lxANqSCgyiJFffJwW1M2CjpvGJEojzqsLC~XAVPDxAgKi3WVgSK8Sc76c4hlyVEEFhRvXxf7fWSAIXciZdYzqBKA19tBtAON3ok0dRNFiLqTj9DINQs-2GSrP~DryxKwlUI6~ATWLiARZYVZOZuLuuVwUry~nOQ8cMzNePtHdB6CMmYmI3cQoukwzQQaKgCVXARBSjBw5qdPVfm3LxLSKluvicQ__ into downloaded_files/JK041919_062019_PTRC_Ov_FHCRC_Gr08_TMT_11plex_bRP_GLBL_F15.mzid.gz ...\n",
      "Download complete.\n",
      "Extracted downloaded_files/JK041919_062019_PTRC_Ov_FHCRC_Gr08_TMT_11plex_bRP_GLBL_F15.mzid.gz to extracted_files/JK041919_062019_PTRC_Ov_FHCRC_Gr08_TMT_11plex_bRP_GLBL_F15.mzid\n",
      "Extracted 3273 proteins from extracted_files/JK041919_062019_PTRC_Ov_FHCRC_Gr08_TMT_11plex_bRP_GLBL_F15.mzid\n",
      "Saved protein names to protein_lists/JK041919_062019_PTRC_Ov_FHCRC_Gr08_TMT_11plex_bRP_GLBL_F15.mzid.txt\n",
      "Deleted downloaded file downloaded_files/JK041919_062019_PTRC_Ov_FHCRC_Gr08_TMT_11plex_bRP_GLBL_F15.mzid.gz\n",
      "Deleted extracted file extracted_files/JK041919_062019_PTRC_Ov_FHCRC_Gr08_TMT_11plex_bRP_GLBL_F15.mzid\n",
      "----------------------------------------\n",
      "Processing row: {'\\ufeffFile ID': '0142f1ed-328b-4a70-b07d-d607736b8e0a', 'File Name': 'JK042619_050919_PTRC_Ov_FHCRC_Gr03_TMT_11plex_bRP_GLBL_F05.mzid.gz', 'Run Metadata ID': 'Frozen_Validation_Global_TMT_Gr03', 'Protocol': 'HGSOC FHCRC Frozen Validation Proteome', 'Study Name': 'PTRC HGSOC Frozen Validation - Proteome', 'PDC Study ID': 'PDC000362', 'PDC Study Version': '1', 'Study ID': '196aabca-0e36-46ca-9096-339aee1471da', 'Project Name': 'Proteogenomic Translational Research Centers (PTRC)', 'Data Category': 'Peptide Spectral Matches', 'File Type': 'Open Standard', 'Access': 'Open', 'File Size (in bytes)': '8103141', 'Md5sum': '25a9ad41d668768a025088186c6cb7d4', 'Downloadable': 'Yes', 'File Download Link': 'https://d3iwtkuvwz4jtf.cloudfront.net/studies/362/PSM/mzid/JK042619_050919_PTRC_Ov_FHCRC_Gr03_TMT_11plex_bRP_GLBL_F05.mzid.gz?Policy=eyJTdGF0ZW1lbnQiOlt7IlJlc291cmNlIjoiaHR0cHM6Ly9kM2l3dGt1dnd6NGp0Zi5jbG91ZGZyb250Lm5ldC9zdHVkaWVzLzM2Mi9QU00vbXppZC9KSzA0MjYxOV8wNTA5MTlfUFRSQ19Pdl9GSENSQ19HcjAzX1RNVF8xMXBsZXhfYlJQX0dMQkxfRjA1Lm16aWQuZ3oiLCJDb25kaXRpb24iOnsiRGF0ZUxlc3NUaGFuIjp7IkFXUzpFcG9jaFRpbWUiOjE3NDEyNjg5NjB9fX1dfQ__&Key-Pair-Id=APKAIXDMVIARW22I7ILQ&Signature=NWBzsJbZycTPU2LQ4Cp6UPCTwniEBNGYBVTUkDHvfvfpNrHZWW7jTPWP-v2Rg9T-fuilAsGJd6Jy7dI8VvnMw3LX9Dlsvy7wD7rBzkndPA0l7Zf9EqMao3GiFZBKl-npRA~bYCr2A-GhXYbWCHERdEpRP6PEkXHb5GniIW7lcGYO01NLMnhIlO6MDAiospg2ft6C4FBcXg1hTxTAB8DTRkUb1op4d~kCsUWSoBmy0O2rNauSMJcxA~q2rWFm2Eb-c4IuXYgebDg~utDK~wEOYs7iH9YflcZsqKpor4nF0pDB0XKFgcBw9saA0co0zDY9P4LVIeIu6Jl0~jn6nTB8lw__'}\n",
      "Downloading https://d3iwtkuvwz4jtf.cloudfront.net/studies/362/PSM/mzid/JK042619_050919_PTRC_Ov_FHCRC_Gr03_TMT_11plex_bRP_GLBL_F05.mzid.gz?Policy=eyJTdGF0ZW1lbnQiOlt7IlJlc291cmNlIjoiaHR0cHM6Ly9kM2l3dGt1dnd6NGp0Zi5jbG91ZGZyb250Lm5ldC9zdHVkaWVzLzM2Mi9QU00vbXppZC9KSzA0MjYxOV8wNTA5MTlfUFRSQ19Pdl9GSENSQ19HcjAzX1RNVF8xMXBsZXhfYlJQX0dMQkxfRjA1Lm16aWQuZ3oiLCJDb25kaXRpb24iOnsiRGF0ZUxlc3NUaGFuIjp7IkFXUzpFcG9jaFRpbWUiOjE3NDEyNjg5NjB9fX1dfQ__&Key-Pair-Id=APKAIXDMVIARW22I7ILQ&Signature=NWBzsJbZycTPU2LQ4Cp6UPCTwniEBNGYBVTUkDHvfvfpNrHZWW7jTPWP-v2Rg9T-fuilAsGJd6Jy7dI8VvnMw3LX9Dlsvy7wD7rBzkndPA0l7Zf9EqMao3GiFZBKl-npRA~bYCr2A-GhXYbWCHERdEpRP6PEkXHb5GniIW7lcGYO01NLMnhIlO6MDAiospg2ft6C4FBcXg1hTxTAB8DTRkUb1op4d~kCsUWSoBmy0O2rNauSMJcxA~q2rWFm2Eb-c4IuXYgebDg~utDK~wEOYs7iH9YflcZsqKpor4nF0pDB0XKFgcBw9saA0co0zDY9P4LVIeIu6Jl0~jn6nTB8lw__ into downloaded_files/JK042619_050919_PTRC_Ov_FHCRC_Gr03_TMT_11plex_bRP_GLBL_F05.mzid.gz ...\n",
      "Download complete.\n",
      "Extracted downloaded_files/JK042619_050919_PTRC_Ov_FHCRC_Gr03_TMT_11plex_bRP_GLBL_F05.mzid.gz to extracted_files/JK042619_050919_PTRC_Ov_FHCRC_Gr03_TMT_11plex_bRP_GLBL_F05.mzid\n",
      "Extracted 3338 proteins from extracted_files/JK042619_050919_PTRC_Ov_FHCRC_Gr03_TMT_11plex_bRP_GLBL_F05.mzid\n",
      "Saved protein names to protein_lists/JK042619_050919_PTRC_Ov_FHCRC_Gr03_TMT_11plex_bRP_GLBL_F05.mzid.txt\n",
      "Deleted downloaded file downloaded_files/JK042619_050919_PTRC_Ov_FHCRC_Gr03_TMT_11plex_bRP_GLBL_F05.mzid.gz\n",
      "Deleted extracted file extracted_files/JK042619_050919_PTRC_Ov_FHCRC_Gr03_TMT_11plex_bRP_GLBL_F05.mzid\n",
      "----------------------------------------\n",
      "Processing row: {'\\ufeffFile ID': '044d1bbb-278b-4cdd-8a42-481b386077b8', 'File Name': 'JK041919_051719_PTRC_Ov_FHCRC_Gr04_TMT_11plex_bRP_GLBL_F15.mzid.gz', 'Run Metadata ID': 'Frozen_Validation_Global_TMT_Gr04', 'Protocol': 'HGSOC FHCRC Frozen Validation Proteome', 'Study Name': 'PTRC HGSOC Frozen Validation - Proteome', 'PDC Study ID': 'PDC000362', 'PDC Study Version': '1', 'Study ID': '196aabca-0e36-46ca-9096-339aee1471da', 'Project Name': 'Proteogenomic Translational Research Centers (PTRC)', 'Data Category': 'Peptide Spectral Matches', 'File Type': 'Open Standard', 'Access': 'Open', 'File Size (in bytes)': '8000750', 'Md5sum': 'f424954a4c9f65aa0d0f177692457dc8', 'Downloadable': 'Yes', 'File Download Link': 'https://d3iwtkuvwz4jtf.cloudfront.net/studies/362/PSM/mzid/JK041919_051719_PTRC_Ov_FHCRC_Gr04_TMT_11plex_bRP_GLBL_F15.mzid.gz?Policy=eyJTdGF0ZW1lbnQiOlt7IlJlc291cmNlIjoiaHR0cHM6Ly9kM2l3dGt1dnd6NGp0Zi5jbG91ZGZyb250Lm5ldC9zdHVkaWVzLzM2Mi9QU00vbXppZC9KSzA0MTkxOV8wNTE3MTlfUFRSQ19Pdl9GSENSQ19HcjA0X1RNVF8xMXBsZXhfYlJQX0dMQkxfRjE1Lm16aWQuZ3oiLCJDb25kaXRpb24iOnsiRGF0ZUxlc3NUaGFuIjp7IkFXUzpFcG9jaFRpbWUiOjE3NDEyNjg5NjB9fX1dfQ__&Key-Pair-Id=APKAIXDMVIARW22I7ILQ&Signature=M2AMyo29JAka6qbzNyPnEhSxAShUOSfH4fJ8EAJDZRRieLMWOtWEH6Lp7FjkNvu6kDJ7iXwlOKRXoD9piqz01mSDlU~tGQfwTP5NP3CRHaZa7Er~GFF6UY1IwRdMK8LSg3F-wtcIYJZ9tdEcjkWVf4z6tqD7Bxpu4sJh6Ib43-d4eHF9GNmDPOdkpOpW9BPAERDZF4RfsyWDYmxSrFdSrpvy0htGoTFmWvzlXGD-PEbDeELLeNP5PrqY5KDq1jX3LnwdGIlPhO93aCqwMwLzZh0kXTm8ZVSMFC76wGxjlCDbbGYnP556SkAtFs3TdUh6sO6c-g~19I2omdHg2Q~I4g__'}\n",
      "Downloading https://d3iwtkuvwz4jtf.cloudfront.net/studies/362/PSM/mzid/JK041919_051719_PTRC_Ov_FHCRC_Gr04_TMT_11plex_bRP_GLBL_F15.mzid.gz?Policy=eyJTdGF0ZW1lbnQiOlt7IlJlc291cmNlIjoiaHR0cHM6Ly9kM2l3dGt1dnd6NGp0Zi5jbG91ZGZyb250Lm5ldC9zdHVkaWVzLzM2Mi9QU00vbXppZC9KSzA0MTkxOV8wNTE3MTlfUFRSQ19Pdl9GSENSQ19HcjA0X1RNVF8xMXBsZXhfYlJQX0dMQkxfRjE1Lm16aWQuZ3oiLCJDb25kaXRpb24iOnsiRGF0ZUxlc3NUaGFuIjp7IkFXUzpFcG9jaFRpbWUiOjE3NDEyNjg5NjB9fX1dfQ__&Key-Pair-Id=APKAIXDMVIARW22I7ILQ&Signature=M2AMyo29JAka6qbzNyPnEhSxAShUOSfH4fJ8EAJDZRRieLMWOtWEH6Lp7FjkNvu6kDJ7iXwlOKRXoD9piqz01mSDlU~tGQfwTP5NP3CRHaZa7Er~GFF6UY1IwRdMK8LSg3F-wtcIYJZ9tdEcjkWVf4z6tqD7Bxpu4sJh6Ib43-d4eHF9GNmDPOdkpOpW9BPAERDZF4RfsyWDYmxSrFdSrpvy0htGoTFmWvzlXGD-PEbDeELLeNP5PrqY5KDq1jX3LnwdGIlPhO93aCqwMwLzZh0kXTm8ZVSMFC76wGxjlCDbbGYnP556SkAtFs3TdUh6sO6c-g~19I2omdHg2Q~I4g__ into downloaded_files/JK041919_051719_PTRC_Ov_FHCRC_Gr04_TMT_11plex_bRP_GLBL_F15.mzid.gz ...\n",
      "Download complete.\n",
      "Extracted downloaded_files/JK041919_051719_PTRC_Ov_FHCRC_Gr04_TMT_11plex_bRP_GLBL_F15.mzid.gz to extracted_files/JK041919_051719_PTRC_Ov_FHCRC_Gr04_TMT_11plex_bRP_GLBL_F15.mzid\n"
     ]
    }
   ],
   "source": [
    "with open(MANIFEST_FILE, 'r', newline='') as csvfile:\n",
    "    reader = csv.DictReader(csvfile)\n",
    "    for row in reader:\n",
    "        print(f\"Processing row: {row}\")\n",
    "        file_url = row.get('File Download Link')\n",
    "        if not file_url:\n",
    "            print(\"No 'File Download Link' found; skipping row.\")\n",
    "            continue\n",
    "\n",
    "        # Use 'File Name' if available; else derive from URL.\n",
    "        file_name = row.get('File Name') or os.path.basename(file_url.split('?')[0])\n",
    "        base_name = os.path.splitext(file_name)[0]  # removes extension (e.g., .mzid.gz)\n",
    "\n",
    "        # Check if protein list already exists (to avoid redoing work).\n",
    "        protein_list_file = os.path.join(PROTEIN_LIST_DIR, base_name + '.txt')\n",
    "        if os.path.exists(protein_list_file):\n",
    "            print(f\"Protein list for {file_name} already exists; skipping processing.\")\n",
    "            continue\n",
    "\n",
    "        # Download the .mzid.gz file into DOWNLOAD_DIR.\n",
    "        gz_path = os.path.join(DOWNLOAD_DIR, file_name)\n",
    "        try:\n",
    "            print(f\"Downloading {file_url} into {gz_path} ...\")\n",
    "            download_file(file_url, gz_path)\n",
    "            print(\"Download complete.\")\n",
    "        except Exception as e:\n",
    "            print(f\"Failed to download {file_url}: {e}\")\n",
    "            continue\n",
    "\n",
    "        # Unzip the .gz file into EXTRACTED_DIR.\n",
    "        try:\n",
    "            extracted_path = extract_gz_file(gz_path, EXTRACTED_DIR)\n",
    "            print(f\"Extracted {gz_path} to {extracted_path}\")\n",
    "        except Exception as e:\n",
    "            print(f\"Failed to extract {gz_path}: {e}\")\n",
    "            continue\n",
    "\n",
    "        # Extract protein names from the unzipped .mzid file.\n",
    "        protein_names = extract_proteins(extracted_path)\n",
    "        protein_count = len(protein_names)\n",
    "        print(f\"Extracted {len(protein_names)} proteins from {extracted_path}\")\n",
    "\n",
    "        # Save protein names to protein_list_file (one per line).\n",
    "        try:\n",
    "            with open(protein_list_file, 'w') as f:\n",
    "                for protein in protein_names:\n",
    "                    f.write(protein + '\\n')\n",
    "            print(f\"Saved protein names to {protein_list_file}\")\n",
    "        except Exception as e:\n",
    "            print(f\"Error writing to {protein_list_file}: {e}\")\n",
    "\n",
    "        # If number of proteins > 100, record this file as problematic.\n",
    "        is_problematic = protein_count < 100\n",
    "        if is_problematic:\n",
    "            print(f\"Problematic file detected: {file_name} has only {protein_count} proteins.\")\n",
    "            problematic_files.append((file_name, protein_count))\n",
    "            problematic_files.sort(key=lambda x: x[1])\n",
    "            print(\"Sorted problematic file list so far:\")\n",
    "            for fname, count, url in problematic_files:\n",
    "                print(f\"{fname}: {count} proteins, {url}\") \n",
    "            problematic_list_file = os.path.join(PROTEIN_LIST_DIR, 'problematic_files.txt')\n",
    "            with open(problematic_list_file, 'w') as pf:\n",
    "                for fname, count in problematic_files:\n",
    "                    pf.write(f\"{fname}: {count}\\n\")\n",
    "\n",
    "        # Delete the downloaded and extracted files.\n",
    "        try:\n",
    "            if os.path.exists(gz_path):\n",
    "                os.remove(gz_path)\n",
    "                print(f\"Deleted downloaded file {gz_path}\")\n",
    "            # Delete the extracted file only if not problematic.\n",
    "            if not is_problematic and os.path.exists(extracted_path):\n",
    "                os.remove(extracted_path)\n",
    "                print(f\"Deleted extracted file {extracted_path}\")\n",
    "            elif is_problematic:\n",
    "                print(f\"Kept extracted file {extracted_path} for review (problematic file).\")\n",
    "        except Exception as e:\n",
    "            print(f\"Error deleting files: {e}\")\n",
    "\n",
    "        print(\"-\" * 40)"
   ]
  }
 ],
 "metadata": {
  "kernelspec": {
   "display_name": "Python 3",
   "language": "python",
   "name": "python3"
  },
  "language_info": {
   "codemirror_mode": {
    "name": "ipython",
    "version": 3
   },
   "file_extension": ".py",
   "mimetype": "text/x-python",
   "name": "python",
   "nbconvert_exporter": "python",
   "pygments_lexer": "ipython3",
   "version": "3.13.1"
  }
 },
 "nbformat": 4,
 "nbformat_minor": 2
}
